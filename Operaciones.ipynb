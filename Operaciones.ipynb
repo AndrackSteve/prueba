{
 "cells": [
  {
   "cell_type": "markdown",
   "id": "8e16a144-06a5-4c89-b5ea-ec30d8869405",
   "metadata": {},
   "source": [
    "Comparaciones de listas"
   ]
  },
  {
   "cell_type": "code",
   "execution_count": 3,
   "id": "c6119f37-028d-46a2-92c2-057f8113e9b0",
   "metadata": {},
   "outputs": [
    {
     "data": {
      "text/plain": [
       "True"
      ]
     },
     "execution_count": 3,
     "metadata": {},
     "output_type": "execute_result"
    }
   ],
   "source": [
    "a = [1,2,3]\n",
    "b = [1,2,3]\n",
    "a==b"
   ]
  },
  {
   "cell_type": "code",
   "execution_count": 4,
   "id": "55507d0c-5d5d-439e-98dc-d8568a972ad5",
   "metadata": {},
   "outputs": [
    {
     "data": {
      "text/plain": [
       "8"
      ]
     },
     "execution_count": 4,
     "metadata": {},
     "output_type": "execute_result"
    }
   ],
   "source": [
    "True*8"
   ]
  },
  {
   "cell_type": "code",
   "execution_count": 5,
   "id": "d666c65b-c4f6-46e9-995f-5cbef69181ed",
   "metadata": {},
   "outputs": [
    {
     "data": {
      "text/plain": [
       "2"
      ]
     },
     "execution_count": 5,
     "metadata": {},
     "output_type": "execute_result"
    }
   ],
   "source": [
    "True + True"
   ]
  },
  {
   "cell_type": "markdown",
   "id": "4b54d4b6-ab72-4600-9b97-d54a5578a728",
   "metadata": {},
   "source": [
    "num1=10\n",
    "num2=8\n",
    "\n",
    "num1 = num2\n",
    "\n",
    "1.()\n",
    "2. ** / * %\n",
    "3.. relaciones\n",
    "4.exp logicas"
   ]
  },
  {
   "cell_type": "code",
   "execution_count": 7,
   "id": "65bd666c-449a-437f-9573-6325524491e6",
   "metadata": {},
   "outputs": [],
   "source": [
    "num1 = 10"
   ]
  },
  {
   "cell_type": "code",
   "execution_count": 8,
   "id": "0ae724cc-96b2-4bdf-8de6-96671a695da7",
   "metadata": {},
   "outputs": [
    {
     "ename": "NameError",
     "evalue": "name 'num' is not defined",
     "output_type": "error",
     "traceback": [
      "\u001b[1;31m---------------------------------------------------------------------------\u001b[0m",
      "\u001b[1;31mNameError\u001b[0m                                 Traceback (most recent call last)",
      "Cell \u001b[1;32mIn[8], line 1\u001b[0m\n\u001b[1;32m----> 1\u001b[0m \u001b[43mnum\u001b[49m\u001b[38;5;241m+\u001b[39m\u001b[38;5;241m=\u001b[39m\u001b[38;5;241m5\u001b[39m\n",
      "\u001b[1;31mNameError\u001b[0m: name 'num' is not defined"
     ]
    }
   ],
   "source": [
    "num+=5"
   ]
  },
  {
   "cell_type": "code",
   "execution_count": 9,
   "id": "0092aae3-006e-4000-aae2-84f3b67cc301",
   "metadata": {},
   "outputs": [],
   "source": [
    "num1 +=5"
   ]
  },
  {
   "cell_type": "code",
   "execution_count": 10,
   "id": "4c08ab75-8916-4f6c-a9d6-a522f839dd01",
   "metadata": {},
   "outputs": [
    {
     "data": {
      "text/plain": [
       "15"
      ]
     },
     "execution_count": 10,
     "metadata": {},
     "output_type": "execute_result"
    }
   ],
   "source": [
    "num1"
   ]
  },
  {
   "cell_type": "code",
   "execution_count": 11,
   "id": "73fff795-8f29-4cf1-ab83-5da6783a0a84",
   "metadata": {
    "scrolled": true
   },
   "outputs": [
    {
     "name": "stdin",
     "output_type": "stream",
     "text": [
      " 2\n"
     ]
    },
    {
     "name": "stdout",
     "output_type": "stream",
     "text": [
      "c value  0\n",
      "c value  1\n",
      "c value  2\n",
      "c value  3\n",
      "c value  4\n",
      "c value  5\n",
      "termina\n",
      "222222222\n"
     ]
    }
   ],
   "source": [
    "variable = 12345679\n",
    "x = int(input())\n",
    "x*=9\n",
    "c=0\n",
    "while(c<=5):\n",
    "    print('c value ',c)\n",
    "    c+=1\n",
    "else:\n",
    "    print('termina')\n",
    "\n",
    "print(variable*x)"
   ]
  },
  {
   "cell_type": "raw",
   "id": "63071221-44d7-4614-8c25-8fd4babee7e0",
   "metadata": {},
   "source": [
    "Bienvenido a un menu interactivo\n",
    "1. Saluda\n",
    "2. Suma dos numeros\n",
    "3. Salir"
   ]
  },
  {
   "cell_type": "code",
   "execution_count": null,
   "id": "531d6afb-af91-47f3-8f5f-11f6ab0b486e",
   "metadata": {},
   "outputs": [
    {
     "name": "stdin",
     "output_type": "stream",
     "text": [
      "Bienvenido a un menu interactivo\n",
      "        1. Saluda\n",
      "        2. Suma dos numeros\n",
      "        3. Salir 1\n"
     ]
    },
    {
     "name": "stdout",
     "output_type": "stream",
     "text": [
      "Hola\n"
     ]
    },
    {
     "name": "stdin",
     "output_type": "stream",
     "text": [
      "Bienvenido a un menu interactivo\n",
      "        1. Saluda\n",
      "        2. Suma dos numeros\n",
      "        3. Salir 2\n",
      "Num 1 1\n",
      "Num 2 2\n"
     ]
    },
    {
     "name": "stdout",
     "output_type": "stream",
     "text": [
      "3\n"
     ]
    },
    {
     "name": "stdin",
     "output_type": "stream",
     "text": [
      "Bienvenido a un menu interactivo\n",
      "        1. Saluda\n",
      "        2. Suma dos numeros\n",
      "        3. Salir 5\n"
     ]
    },
    {
     "name": "stdout",
     "output_type": "stream",
     "text": [
      "opcion no valida\n"
     ]
    }
   ],
   "source": [
    "op = 4\n",
    "\n",
    "def sumar2(a,b):\n",
    "    print(a+b)\n",
    "\n",
    "while op != 3 :\n",
    "    op = int(input(\n",
    "        \"\"\"Bienvenido a un menu interactivo\n",
    "        1. Saluda\n",
    "        2. Suma dos numeros\n",
    "        3. Salir\"\"\"))\n",
    "    if(op==3):\n",
    "        continue\n",
    "    elif(op==2):\n",
    "        sumar2(int(input('Num 1')),int(input('Num 2')))\n",
    "    elif(op==1):\n",
    "        print('Hola')\n",
    "    else:\n",
    "        print('opcion no valida')\n",
    "else:\n",
    "    print('Saliendo')\n",
    "\n",
    "    "
   ]
  },
  {
   "cell_type": "code",
   "execution_count": null,
   "id": "43427d90-c500-4cbe-b785-c53703869f12",
   "metadata": {},
   "outputs": [],
   "source": []
  }
 ],
 "metadata": {
  "kernelspec": {
   "display_name": "Python 3 (ipykernel)",
   "language": "python",
   "name": "python3"
  },
  "language_info": {
   "codemirror_mode": {
    "name": "ipython",
    "version": 3
   },
   "file_extension": ".py",
   "mimetype": "text/x-python",
   "name": "python",
   "nbconvert_exporter": "python",
   "pygments_lexer": "ipython3",
   "version": "3.12.1"
  }
 },
 "nbformat": 4,
 "nbformat_minor": 5
}
