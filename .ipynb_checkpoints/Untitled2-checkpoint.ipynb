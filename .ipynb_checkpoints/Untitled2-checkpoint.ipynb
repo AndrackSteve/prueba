{
 "cells": [
  {
   "cell_type": "markdown",
   "id": "8e16a144-06a5-4c89-b5ea-ec30d8869405",
   "metadata": {},
   "source": [
    "Comparaciones de listas"
   ]
  },
  {
   "cell_type": "code",
   "execution_count": 3,
   "id": "c6119f37-028d-46a2-92c2-057f8113e9b0",
   "metadata": {},
   "outputs": [
    {
     "data": {
      "text/plain": [
       "True"
      ]
     },
     "execution_count": 3,
     "metadata": {},
     "output_type": "execute_result"
    }
   ],
   "source": [
    "a = [1,2,3]\n",
    "b = [1,2,3]\n",
    "a==b"
   ]
  },
  {
   "cell_type": "code",
   "execution_count": 4,
   "id": "55507d0c-5d5d-439e-98dc-d8568a972ad5",
   "metadata": {},
   "outputs": [
    {
     "data": {
      "text/plain": [
       "8"
      ]
     },
     "execution_count": 4,
     "metadata": {},
     "output_type": "execute_result"
    }
   ],
   "source": [
    "True*8"
   ]
  },
  {
   "cell_type": "code",
   "execution_count": 5,
   "id": "d666c65b-c4f6-46e9-995f-5cbef69181ed",
   "metadata": {},
   "outputs": [
    {
     "data": {
      "text/plain": [
       "2"
      ]
     },
     "execution_count": 5,
     "metadata": {},
     "output_type": "execute_result"
    }
   ],
   "source": [
    "True + True"
   ]
  },
  {
   "cell_type": "markdown",
   "id": "4b54d4b6-ab72-4600-9b97-d54a5578a728",
   "metadata": {},
   "source": [
    "num1=10\n",
    "num2=8\n",
    "\n",
    "num1 = num2\n",
    "\n",
    "1.()\n",
    "2. ** / * %\n",
    "3.. relaciones\n",
    "4.exp logicas"
   ]
  },
  {
   "cell_type": "code",
   "execution_count": 7,
   "id": "65bd666c-449a-437f-9573-6325524491e6",
   "metadata": {},
   "outputs": [],
   "source": [
    "num1 = 10"
   ]
  },
  {
   "cell_type": "code",
   "execution_count": 8,
   "id": "0ae724cc-96b2-4bdf-8de6-96671a695da7",
   "metadata": {},
   "outputs": [
    {
     "ename": "NameError",
     "evalue": "name 'num' is not defined",
     "output_type": "error",
     "traceback": [
      "\u001b[1;31m---------------------------------------------------------------------------\u001b[0m",
      "\u001b[1;31mNameError\u001b[0m                                 Traceback (most recent call last)",
      "Cell \u001b[1;32mIn[8], line 1\u001b[0m\n\u001b[1;32m----> 1\u001b[0m \u001b[43mnum\u001b[49m\u001b[38;5;241m+\u001b[39m\u001b[38;5;241m=\u001b[39m\u001b[38;5;241m5\u001b[39m\n",
      "\u001b[1;31mNameError\u001b[0m: name 'num' is not defined"
     ]
    }
   ],
   "source": [
    "num+=5"
   ]
  },
  {
   "cell_type": "code",
   "execution_count": 9,
   "id": "0092aae3-006e-4000-aae2-84f3b67cc301",
   "metadata": {},
   "outputs": [],
   "source": [
    "num1 +=5"
   ]
  },
  {
   "cell_type": "code",
   "execution_count": null,
   "id": "4c08ab75-8916-4f6c-a9d6-a522f839dd01",
   "metadata": {},
   "outputs": [],
   "source": []
  }
 ],
 "metadata": {
  "kernelspec": {
   "display_name": "Python 3 (ipykernel)",
   "language": "python",
   "name": "python3"
  },
  "language_info": {
   "codemirror_mode": {
    "name": "ipython",
    "version": 3
   },
   "file_extension": ".py",
   "mimetype": "text/x-python",
   "name": "python",
   "nbconvert_exporter": "python",
   "pygments_lexer": "ipython3",
   "version": "3.12.1"
  }
 },
 "nbformat": 4,
 "nbformat_minor": 5
}
