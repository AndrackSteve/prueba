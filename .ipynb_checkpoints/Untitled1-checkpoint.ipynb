{
 "cells": [
  {
   "cell_type": "markdown",
   "id": "3352a71c-37c9-43a4-a13c-d8978c73bf37",
   "metadata": {},
   "source": [
    "##Listas"
   ]
  },
  {
   "cell_type": "markdown",
   "id": "4ed6e840-5e5d-4966-84db-afdc7977118f",
   "metadata": {},
   "source": [
    "Set solo deja cosas sin dublicados, la tupla no muta no se puede adicionar nada ,como se crea asi se queda,el dicionario es la combinacion como si fuera un diccionario de palabras normal"
   ]
  },
  {
   "cell_type": "code",
   "execution_count": 3,
   "id": "92c7ee42-3127-4696-8a16-6088ce448bfb",
   "metadata": {},
   "outputs": [
    {
     "name": "stdout",
     "output_type": "stream",
     "text": [
      "[1, 2, 3, 4]\n",
      "[True, 'Hola']\n"
     ]
    }
   ],
   "source": [
    "numeros = [1,2,3,4]\n",
    "print(numeros)\n",
    "datos = [0,'hola',True,'Hola']\n",
    "print(datos[2:])"
   ]
  },
  {
   "cell_type": "code",
   "execution_count": 4,
   "id": "15f8c90d-83de-4c31-bc6c-243accd76f38",
   "metadata": {},
   "outputs": [],
   "source": [
    "datos2 = ['otro text',12]\n",
    "datos3 = datos+datos2"
   ]
  },
  {
   "cell_type": "code",
   "execution_count": 15,
   "id": "95c1fba4-20af-4293-aed2-c572bc62edb4",
   "metadata": {},
   "outputs": [
    {
     "name": "stdout",
     "output_type": "stream",
     "text": [
      "[0, 'hola', True, 'Hola', 'otro text', 12, 12]\n"
     ]
    }
   ],
   "source": [
    "print(datos3)"
   ]
  },
  {
   "cell_type": "code",
   "execution_count": 14,
   "id": "f8be6689-0c09-49a1-b067-5fd562c8d58e",
   "metadata": {},
   "outputs": [],
   "source": [
    "datos3.append(12)"
   ]
  },
  {
   "cell_type": "code",
   "execution_count": 11,
   "id": "afa280ef-d99e-47e2-8803-e67c3be7d06c",
   "metadata": {},
   "outputs": [
    {
     "data": {
      "text/plain": [
       "12"
      ]
     },
     "execution_count": 11,
     "metadata": {},
     "output_type": "execute_result"
    }
   ],
   "source": [
    "datos3.pop()"
   ]
  },
  {
   "cell_type": "code",
   "execution_count": 17,
   "id": "249e0f0e-f3e0-4846-925e-5d37a70781b7",
   "metadata": {},
   "outputs": [
    {
     "name": "stdout",
     "output_type": "stream",
     "text": [
      "[[1, 2, 3], [4, 5, 6], [7, 8, 9]]\n"
     ]
    }
   ],
   "source": [
    "a= [1,2,3]\n",
    "b=[4,5,6]\n",
    "c=[7,8,9]\n",
    "lanidadada = [a,b,c]\n",
    "print(lanidadada)"
   ]
  },
  {
   "cell_type": "code",
   "execution_count": 18,
   "id": "a2f3ab2c-8357-4e08-ba6d-ce5b75980ae8",
   "metadata": {},
   "outputs": [
    {
     "name": "stdin",
     "output_type": "stream",
     "text": [
      " hola\n"
     ]
    }
   ],
   "source": [
    "x = int input()"
   ]
  },
  {
   "cell_type": "code",
   "execution_count": 19,
   "id": "f3038e32-aab8-4554-b866-eff6a44c023d",
   "metadata": {},
   "outputs": [
    {
     "name": "stdout",
     "output_type": "stream",
     "text": [
      "hola\n"
     ]
    }
   ],
   "source": [
    "print(x)"
   ]
  },
  {
   "cell_type": "code",
   "execution_count": null,
   "id": "5bbc00ca-6e19-4523-aba0-92173c3119a0",
   "metadata": {},
   "outputs": [],
   "source": [
    "int(x)"
   ]
  }
 ],
 "metadata": {
  "kernelspec": {
   "display_name": "Python 3 (ipykernel)",
   "language": "python",
   "name": "python3"
  },
  "language_info": {
   "codemirror_mode": {
    "name": "ipython",
    "version": 3
   },
   "file_extension": ".py",
   "mimetype": "text/x-python",
   "name": "python",
   "nbconvert_exporter": "python",
   "pygments_lexer": "ipython3",
   "version": "3.12.1"
  }
 },
 "nbformat": 4,
 "nbformat_minor": 5
}
